{
  "nbformat": 4,
  "nbformat_minor": 0,
  "metadata": {
    "colab": {
      "provenance": [],
      "gpuType": "T4",
      "authorship_tag": "ABX9TyNMGIi9VOSu3tG0B1kN8zYc",
      "include_colab_link": true
    },
    "kernelspec": {
      "name": "python3",
      "display_name": "Python 3"
    },
    "language_info": {
      "name": "python"
    },
    "accelerator": "GPU"
  },
  "cells": [
    {
      "cell_type": "markdown",
      "metadata": {
        "id": "view-in-github",
        "colab_type": "text"
      },
      "source": [
        "<a href=\"https://colab.research.google.com/github/Diogo-Cardeal/PyTorch-for-DL-ML/blob/main/00_pytorch.ipynb\" target=\"_parent\"><img src=\"https://colab.research.google.com/assets/colab-badge.svg\" alt=\"Open In Colab\"/></a>"
      ]
    },
    {
      "cell_type": "code",
      "source": [
        "import torch\n",
        "import pandas as pd\n",
        "import numpy as np\n",
        "import matplotlib.pyplot as plt\n",
        "print(torch.__version__)"
      ],
      "metadata": {
        "colab": {
          "base_uri": "https://localhost:8080/"
        },
        "id": "7D_6S9gI9pzr",
        "outputId": "dcbd6ccd-e570-4536-be3e-ad808995defd"
      },
      "execution_count": 1,
      "outputs": [
        {
          "output_type": "stream",
          "name": "stdout",
          "text": [
            "2.5.1+cu124\n"
          ]
        }
      ]
    },
    {
      "cell_type": "code",
      "source": [
        "scalar = torch.tensor(7)\n",
        "scalar"
      ],
      "metadata": {
        "colab": {
          "base_uri": "https://localhost:8080/"
        },
        "id": "Im917bjuCEHG",
        "outputId": "4bed2e60-a28c-4f89-e9b6-8f87e49ca9de"
      },
      "execution_count": null,
      "outputs": [
        {
          "output_type": "execute_result",
          "data": {
            "text/plain": [
              "tensor(7)"
            ]
          },
          "metadata": {},
          "execution_count": 4
        }
      ]
    },
    {
      "cell_type": "code",
      "source": [
        "scalar.ndim"
      ],
      "metadata": {
        "colab": {
          "base_uri": "https://localhost:8080/"
        },
        "id": "1bV8CqEzCaqe",
        "outputId": "7da29ef9-468d-4c35-80c2-f120873307bf"
      },
      "execution_count": null,
      "outputs": [
        {
          "output_type": "execute_result",
          "data": {
            "text/plain": [
              "0"
            ]
          },
          "metadata": {},
          "execution_count": 5
        }
      ]
    },
    {
      "cell_type": "code",
      "source": [
        "scalar.item()"
      ],
      "metadata": {
        "colab": {
          "base_uri": "https://localhost:8080/"
        },
        "id": "gwgYjlXKCrFX",
        "outputId": "42f355e3-3cdf-47ca-e1b5-931df9180136"
      },
      "execution_count": null,
      "outputs": [
        {
          "output_type": "execute_result",
          "data": {
            "text/plain": [
              "7"
            ]
          },
          "metadata": {},
          "execution_count": 6
        }
      ]
    },
    {
      "cell_type": "code",
      "source": [
        "vector = torch.tensor([7,7])\n",
        "vector"
      ],
      "metadata": {
        "colab": {
          "base_uri": "https://localhost:8080/"
        },
        "id": "J0ywIxWnCuwM",
        "outputId": "84f32254-a683-48a8-b766-61592cf4611c"
      },
      "execution_count": null,
      "outputs": [
        {
          "output_type": "execute_result",
          "data": {
            "text/plain": [
              "tensor([7, 7])"
            ]
          },
          "metadata": {},
          "execution_count": 7
        }
      ]
    },
    {
      "cell_type": "code",
      "source": [
        "vector.ndim"
      ],
      "metadata": {
        "colab": {
          "base_uri": "https://localhost:8080/"
        },
        "id": "sSl1F_BMC3Xd",
        "outputId": "710080ee-a250-48b5-ed82-86fb56732bee"
      },
      "execution_count": null,
      "outputs": [
        {
          "output_type": "execute_result",
          "data": {
            "text/plain": [
              "1"
            ]
          },
          "metadata": {},
          "execution_count": 8
        }
      ]
    },
    {
      "cell_type": "code",
      "source": [
        "vector.shape"
      ],
      "metadata": {
        "colab": {
          "base_uri": "https://localhost:8080/"
        },
        "id": "1ALYQmswC6c6",
        "outputId": "d83643f5-47b2-4cbb-9818-b6a22e5d2b01"
      },
      "execution_count": null,
      "outputs": [
        {
          "output_type": "execute_result",
          "data": {
            "text/plain": [
              "torch.Size([2])"
            ]
          },
          "metadata": {},
          "execution_count": 9
        }
      ]
    },
    {
      "cell_type": "code",
      "source": [
        "matrix = torch.tensor([[7,8],\n",
        "                       [9,10]])\n",
        "matrix"
      ],
      "metadata": {
        "colab": {
          "base_uri": "https://localhost:8080/"
        },
        "id": "CQ_OipnXDA4E",
        "outputId": "859b4cde-9f9d-44e4-de4d-6368ce1a5c9c"
      },
      "execution_count": null,
      "outputs": [
        {
          "output_type": "execute_result",
          "data": {
            "text/plain": [
              "tensor([[ 7,  8],\n",
              "        [ 9, 10]])"
            ]
          },
          "metadata": {},
          "execution_count": 10
        }
      ]
    },
    {
      "cell_type": "code",
      "source": [
        " matrix.ndim"
      ],
      "metadata": {
        "colab": {
          "base_uri": "https://localhost:8080/"
        },
        "id": "PJgkC0i5Dz5Y",
        "outputId": "4eb8d485-3e00-4221-c0b5-2dd6c2363cf1"
      },
      "execution_count": null,
      "outputs": [
        {
          "output_type": "execute_result",
          "data": {
            "text/plain": [
              "2"
            ]
          },
          "metadata": {},
          "execution_count": 11
        }
      ]
    },
    {
      "cell_type": "code",
      "source": [
        "matrix.shape"
      ],
      "metadata": {
        "colab": {
          "base_uri": "https://localhost:8080/"
        },
        "id": "ErbGcvjXD9vm",
        "outputId": "ef1690c4-0398-4f39-83b1-51ae24d7d6e0"
      },
      "execution_count": null,
      "outputs": [
        {
          "output_type": "execute_result",
          "data": {
            "text/plain": [
              "torch.Size([2, 2])"
            ]
          },
          "metadata": {},
          "execution_count": 12
        }
      ]
    },
    {
      "cell_type": "code",
      "source": [
        "matrix[0]"
      ],
      "metadata": {
        "colab": {
          "base_uri": "https://localhost:8080/"
        },
        "id": "rLrk7AH4EAkP",
        "outputId": "f492dc89-341e-43da-d8f2-9d134e193ad0"
      },
      "execution_count": null,
      "outputs": [
        {
          "output_type": "execute_result",
          "data": {
            "text/plain": [
              "tensor([7, 8])"
            ]
          },
          "metadata": {},
          "execution_count": 13
        }
      ]
    },
    {
      "cell_type": "code",
      "source": [
        "tensor = torch.tensor([[[1,2,3,4,5],\n",
        "                        [3,6,9,4,3],\n",
        "                        [2,4,5,2,8],\n",
        "                        [3,4,6,5,8]]])\n",
        "tensor"
      ],
      "metadata": {
        "colab": {
          "base_uri": "https://localhost:8080/"
        },
        "id": "ctL6LkONEDwh",
        "outputId": "24c95338-63d0-4b21-b3e6-2386ee7c8fc1"
      },
      "execution_count": null,
      "outputs": [
        {
          "output_type": "execute_result",
          "data": {
            "text/plain": [
              "tensor([[[1, 2, 3, 4, 5],\n",
              "         [3, 6, 9, 4, 3],\n",
              "         [2, 4, 5, 2, 8],\n",
              "         [3, 4, 6, 5, 8]]])"
            ]
          },
          "metadata": {},
          "execution_count": 14
        }
      ]
    },
    {
      "cell_type": "code",
      "source": [
        "tensor.shape"
      ],
      "metadata": {
        "colab": {
          "base_uri": "https://localhost:8080/"
        },
        "id": "ldfjNDr-EP-j",
        "outputId": "16d3ec32-5a0e-418f-b874-659c9cad10a9"
      },
      "execution_count": null,
      "outputs": [
        {
          "output_type": "execute_result",
          "data": {
            "text/plain": [
              "torch.Size([1, 4, 5])"
            ]
          },
          "metadata": {},
          "execution_count": 15
        }
      ]
    },
    {
      "cell_type": "code",
      "source": [
        "tensor.ndim"
      ],
      "metadata": {
        "colab": {
          "base_uri": "https://localhost:8080/"
        },
        "id": "P4mjR0pDER94",
        "outputId": "0dff95c8-fb24-48ba-a47f-9ca6301a214f"
      },
      "execution_count": null,
      "outputs": [
        {
          "output_type": "execute_result",
          "data": {
            "text/plain": [
              "3"
            ]
          },
          "metadata": {},
          "execution_count": 16
        }
      ]
    },
    {
      "cell_type": "code",
      "source": [
        "tensor[0, 0, 3]"
      ],
      "metadata": {
        "colab": {
          "base_uri": "https://localhost:8080/"
        },
        "id": "-FCj8r4XEVDM",
        "outputId": "6300c33c-25ad-4f3d-ad79-bb5e7d0eb05d"
      },
      "execution_count": null,
      "outputs": [
        {
          "output_type": "execute_result",
          "data": {
            "text/plain": [
              "tensor(4)"
            ]
          },
          "metadata": {},
          "execution_count": 17
        }
      ]
    },
    {
      "cell_type": "code",
      "source": [
        "rand_tensor = torch.rand(3, 7, 3)\n",
        "rand_tensor"
      ],
      "metadata": {
        "colab": {
          "base_uri": "https://localhost:8080/"
        },
        "id": "rHE0X-F8EeR0",
        "outputId": "09fe7abe-a105-459d-ff7a-627884b9399a"
      },
      "execution_count": null,
      "outputs": [
        {
          "output_type": "execute_result",
          "data": {
            "text/plain": [
              "tensor([[[1.1915e-01, 1.0675e-04, 9.8391e-01],\n",
              "         [5.1486e-01, 2.2711e-01, 3.9435e-01],\n",
              "         [4.4414e-01, 3.3976e-01, 5.0210e-01],\n",
              "         [7.6775e-01, 9.0853e-01, 8.9327e-01],\n",
              "         [4.0192e-01, 3.2484e-01, 7.7104e-01],\n",
              "         [1.5674e-01, 9.4335e-01, 5.6536e-02],\n",
              "         [4.6143e-01, 4.6118e-01, 6.8388e-01]],\n",
              "\n",
              "        [[6.2169e-01, 2.5026e-01, 2.8123e-01],\n",
              "         [6.2572e-01, 4.5506e-01, 1.6662e-01],\n",
              "         [2.4201e-01, 8.2208e-01, 5.8532e-01],\n",
              "         [4.0495e-01, 4.5172e-01, 1.1195e-01],\n",
              "         [4.8393e-02, 6.5008e-01, 4.2184e-01],\n",
              "         [4.6394e-01, 4.2367e-01, 2.0360e-01],\n",
              "         [5.3322e-01, 8.8058e-01, 2.9351e-01]],\n",
              "\n",
              "        [[8.6622e-01, 7.2629e-01, 3.3994e-01],\n",
              "         [5.7266e-03, 7.7979e-01, 6.4408e-01],\n",
              "         [4.2041e-01, 8.3933e-02, 9.8401e-01],\n",
              "         [1.9053e-01, 7.4517e-01, 5.0110e-01],\n",
              "         [8.6775e-01, 5.4593e-01, 7.0381e-01],\n",
              "         [4.5130e-01, 6.4902e-01, 8.1002e-01],\n",
              "         [7.4528e-01, 1.7970e-01, 2.5544e-01]]])"
            ]
          },
          "metadata": {},
          "execution_count": 18
        }
      ]
    },
    {
      "cell_type": "code",
      "source": [
        "rand_tensor.ndim"
      ],
      "metadata": {
        "colab": {
          "base_uri": "https://localhost:8080/"
        },
        "id": "3vIdaZDVHLLA",
        "outputId": "15e5d3f6-de44-4889-8c7f-b31858124f4d"
      },
      "execution_count": null,
      "outputs": [
        {
          "output_type": "execute_result",
          "data": {
            "text/plain": [
              "3"
            ]
          },
          "metadata": {},
          "execution_count": 19
        }
      ]
    },
    {
      "cell_type": "code",
      "source": [],
      "metadata": {
        "id": "Wnh0gaVPJq1v"
      },
      "execution_count": null,
      "outputs": []
    },
    {
      "cell_type": "code",
      "source": [
        "rand_img_tensor = torch.rand(size=(224, 224, 3))\n",
        "rand_img_tensor.shape, rand_img_tensor.ndim"
      ],
      "metadata": {
        "colab": {
          "base_uri": "https://localhost:8080/"
        },
        "id": "F3YxgiPaHPjf",
        "outputId": "37d22ccf-d422-4e07-b649-8337a860d664"
      },
      "execution_count": null,
      "outputs": [
        {
          "output_type": "execute_result",
          "data": {
            "text/plain": [
              "(torch.Size([224, 224, 3]), 3)"
            ]
          },
          "metadata": {},
          "execution_count": 20
        }
      ]
    },
    {
      "cell_type": "code",
      "source": [
        "zeros = torch.zeros(size=(3,4)) #or torch.ones\n",
        "zeros"
      ],
      "metadata": {
        "colab": {
          "base_uri": "https://localhost:8080/"
        },
        "id": "jqmz5-GiH0g_",
        "outputId": "1e596118-5e61-4b69-cd65-1d1fadb2a246"
      },
      "execution_count": null,
      "outputs": [
        {
          "output_type": "execute_result",
          "data": {
            "text/plain": [
              "tensor([[0., 0., 0., 0.],\n",
              "        [0., 0., 0., 0.],\n",
              "        [0., 0., 0., 0.]])"
            ]
          },
          "metadata": {},
          "execution_count": 21
        }
      ]
    },
    {
      "cell_type": "code",
      "source": [
        "rand_tensor.dtype"
      ],
      "metadata": {
        "colab": {
          "base_uri": "https://localhost:8080/"
        },
        "id": "Frxb3YT6Iucm",
        "outputId": "6e99cbfc-a7f5-4df8-9fc5-8b87b9a27015"
      },
      "execution_count": null,
      "outputs": [
        {
          "output_type": "execute_result",
          "data": {
            "text/plain": [
              "torch.float32"
            ]
          },
          "metadata": {},
          "execution_count": 22
        }
      ]
    },
    {
      "cell_type": "markdown",
      "source": [
        "### Creating a range of tensors and tensors-like"
      ],
      "metadata": {
        "id": "BWEY-TDlK1iR"
      }
    },
    {
      "cell_type": "code",
      "source": [
        "one2ten = torch.arange(1, 11)\n",
        "one2ten\n"
      ],
      "metadata": {
        "colab": {
          "base_uri": "https://localhost:8080/"
        },
        "id": "4thsZqE3K8er",
        "outputId": "01b4e576-1849-483f-b73a-2f67b0dd66d5"
      },
      "execution_count": null,
      "outputs": [
        {
          "output_type": "execute_result",
          "data": {
            "text/plain": [
              "tensor([ 1,  2,  3,  4,  5,  6,  7,  8,  9, 10])"
            ]
          },
          "metadata": {},
          "execution_count": 23
        }
      ]
    },
    {
      "cell_type": "code",
      "source": [
        "ten_zeros = torch.zeros_like(input=one2ten)\n",
        "ten_zeros"
      ],
      "metadata": {
        "colab": {
          "base_uri": "https://localhost:8080/"
        },
        "id": "_FCNdh7cLcgK",
        "outputId": "e6da9e83-2e1e-43f7-e7dc-0f0a71255311"
      },
      "execution_count": null,
      "outputs": [
        {
          "output_type": "execute_result",
          "data": {
            "text/plain": [
              "tensor([0, 0, 0, 0, 0, 0, 0, 0, 0, 0])"
            ]
          },
          "metadata": {},
          "execution_count": 24
        }
      ]
    },
    {
      "cell_type": "markdown",
      "source": [
        "### Tensor datatype"
      ],
      "metadata": {
        "id": "E_bnvscxM-Q5"
      }
    },
    {
      "cell_type": "code",
      "source": [
        "float32_tensor = torch.tensor([3.0, 6.4, 9.0],\n",
        "                              dtype=None,    # what datatype is the tensor (ex. float32, float16)\n",
        "                              device=None,   # what device is your tensor\n",
        "                              requires_grad=False) #wheter or not to track gradients with this tensor operations\n",
        "float32_tensor"
      ],
      "metadata": {
        "colab": {
          "base_uri": "https://localhost:8080/"
        },
        "id": "p8Ce2VMLMUER",
        "outputId": "0c791d85-67f3-49c4-dfb5-0adc3e7f1410"
      },
      "execution_count": null,
      "outputs": [
        {
          "output_type": "execute_result",
          "data": {
            "text/plain": [
              "tensor([3.0000, 6.4000, 9.0000])"
            ]
          },
          "metadata": {},
          "execution_count": 25
        }
      ]
    },
    {
      "cell_type": "code",
      "source": [
        "float32_tensor.dtype"
      ],
      "metadata": {
        "colab": {
          "base_uri": "https://localhost:8080/"
        },
        "id": "CHtTVk5tNSFM",
        "outputId": "6156783a-ca96-408e-ab17-d942d2865277"
      },
      "execution_count": null,
      "outputs": [
        {
          "output_type": "execute_result",
          "data": {
            "text/plain": [
              "torch.float32"
            ]
          },
          "metadata": {},
          "execution_count": 26
        }
      ]
    },
    {
      "cell_type": "code",
      "source": [
        "float16_tensor = float32_tensor.type(torch.half)\n",
        "float16_tensor"
      ],
      "metadata": {
        "colab": {
          "base_uri": "https://localhost:8080/"
        },
        "id": "yMizaEzlNYPo",
        "outputId": "ccaa131e-fd6b-4ea9-c3ea-34e9ac9daefe"
      },
      "execution_count": null,
      "outputs": [
        {
          "output_type": "execute_result",
          "data": {
            "text/plain": [
              "tensor([3.0000, 6.3984, 9.0000], dtype=torch.float16)"
            ]
          },
          "metadata": {},
          "execution_count": 27
        }
      ]
    },
    {
      "cell_type": "code",
      "source": [
        "float16_tensor * float32_tensor"
      ],
      "metadata": {
        "colab": {
          "base_uri": "https://localhost:8080/"
        },
        "id": "2UQ8hibnPY0M",
        "outputId": "3c120c51-f00f-4617-8358-c91a091a1d8e"
      },
      "execution_count": null,
      "outputs": [
        {
          "output_type": "execute_result",
          "data": {
            "text/plain": [
              "tensor([ 9.0000, 40.9500, 81.0000])"
            ]
          },
          "metadata": {},
          "execution_count": 28
        }
      ]
    },
    {
      "cell_type": "code",
      "source": [
        "int_32_tensor = torch.tensor([3,6,9], dtype=torch.int32)\n",
        "int_32_tensor"
      ],
      "metadata": {
        "id": "GKkjzTKQPqMW",
        "colab": {
          "base_uri": "https://localhost:8080/"
        },
        "outputId": "d7da3738-fce4-4d57-c289-efa9017c9e5d"
      },
      "execution_count": null,
      "outputs": [
        {
          "output_type": "execute_result",
          "data": {
            "text/plain": [
              "tensor([3, 6, 9], dtype=torch.int32)"
            ]
          },
          "metadata": {},
          "execution_count": 29
        }
      ]
    },
    {
      "cell_type": "code",
      "source": [
        "int_32_tensor * float16_tensor"
      ],
      "metadata": {
        "colab": {
          "base_uri": "https://localhost:8080/"
        },
        "id": "YPQk7Jv4hq5t",
        "outputId": "79c816d4-0a95-4478-8c4a-93261c3099bf"
      },
      "execution_count": null,
      "outputs": [
        {
          "output_type": "execute_result",
          "data": {
            "text/plain": [
              "tensor([ 9.0000, 38.3750, 81.0000], dtype=torch.float16)"
            ]
          },
          "metadata": {},
          "execution_count": 30
        }
      ]
    },
    {
      "cell_type": "code",
      "source": [],
      "metadata": {
        "id": "zcwYBCwch3k-"
      },
      "execution_count": null,
      "outputs": []
    },
    {
      "cell_type": "markdown",
      "source": [
        "### Manipulating Tensors"
      ],
      "metadata": {
        "id": "ekX6JACGiath"
      }
    },
    {
      "cell_type": "code",
      "source": [
        "tensor1 = torch.tensor([5,2,3])\n",
        "\n",
        "tensor1"
      ],
      "metadata": {
        "colab": {
          "base_uri": "https://localhost:8080/"
        },
        "id": "BqRMGHxFjIJP",
        "outputId": "ac8571e4-3a50-48b3-a92e-e2d3ded927dd"
      },
      "execution_count": null,
      "outputs": [
        {
          "output_type": "execute_result",
          "data": {
            "text/plain": [
              "tensor([5, 2, 3])"
            ]
          },
          "metadata": {},
          "execution_count": 31
        }
      ]
    },
    {
      "cell_type": "code",
      "source": [
        "print(tensor1)\n",
        "print(f\"Datatype of tensor: {tensor1.dtype}\")\n",
        "print(f\"Shape of tensor: {tensor1.shape}\")\n",
        "print(f\"Device tensor is on: {tensor1.device}\")"
      ],
      "metadata": {
        "colab": {
          "base_uri": "https://localhost:8080/"
        },
        "id": "SEn9zv4Hje6h",
        "outputId": "363d08af-9bb1-423b-b844-42935a24d67f"
      },
      "execution_count": null,
      "outputs": [
        {
          "output_type": "stream",
          "name": "stdout",
          "text": [
            "tensor([5, 2, 3])\n",
            "Datatype of tensor: torch.int64\n",
            "Shape of tensor: torch.Size([3])\n",
            "Device tensor is on: cpu\n"
          ]
        }
      ]
    },
    {
      "cell_type": "code",
      "source": [
        "# Operacoes basicas\n",
        "\n",
        "print(tensor1 + 1)\n",
        "print(tensor1 - 1)\n",
        "print(tensor1 * 20)\n",
        "print(tensor1 / 2)\n",
        "print(tensor1 ** 2)\n",
        "print(tensor1 % 2)\n"
      ],
      "metadata": {
        "colab": {
          "base_uri": "https://localhost:8080/"
        },
        "id": "PAzhrcmppgXl",
        "outputId": "54e37c8f-88b5-420b-bac7-ef5148b8ffbb"
      },
      "execution_count": null,
      "outputs": [
        {
          "output_type": "stream",
          "name": "stdout",
          "text": [
            "tensor([6, 3, 4])\n",
            "tensor([4, 1, 2])\n",
            "tensor([100,  40,  60])\n",
            "tensor([2.5000, 1.0000, 1.5000])\n",
            "tensor([25,  4,  9])\n",
            "tensor([1, 0, 1])\n"
          ]
        }
      ]
    },
    {
      "cell_type": "code",
      "source": [
        "print(tensor1 * tensor1)\n",
        "print(tensor1 @ tensor1)"
      ],
      "metadata": {
        "colab": {
          "base_uri": "https://localhost:8080/"
        },
        "id": "i2WVNgonrlqe",
        "outputId": "b4c6c018-2e25-47ce-9520-03a5e62c1cb3"
      },
      "execution_count": null,
      "outputs": [
        {
          "output_type": "stream",
          "name": "stdout",
          "text": [
            "tensor([25,  4,  9])\n",
            "tensor(38)\n"
          ]
        }
      ]
    },
    {
      "source": [
        "tensor2 = torch.tensor([[1, 2, 3],\n",
        "                        [4, 5, 6],\n",
        "                        [3, 7, 9]])\n",
        "tensor3 = torch.tensor([[3, 8, 3],\n",
        "                        [6, 5, 4],\n",
        "                        [2, 0, 7]])\n",
        "t2mm3 = torch.mm(tensor2, tensor3)\n",
        "\n",
        "print(f\"Tensor2: {tensor2}\")\n",
        "print(f\"Tensor3: {tensor3}\")\n",
        "print(f\"Tensor2 @ Tensor3: {t2mm3}\")\n",
        "\n"
      ],
      "cell_type": "code",
      "metadata": {
        "colab": {
          "base_uri": "https://localhost:8080/"
        },
        "id": "A3Ql1CI5uZ_w",
        "outputId": "8cc7ea2d-decb-4588-bfc9-e28a14b96eb6"
      },
      "execution_count": null,
      "outputs": [
        {
          "output_type": "stream",
          "name": "stdout",
          "text": [
            "Tensor2: tensor([[1, 2, 3],\n",
            "        [4, 5, 6],\n",
            "        [3, 7, 9]])\n",
            "Tensor3: tensor([[3, 8, 3],\n",
            "        [6, 5, 4],\n",
            "        [2, 0, 7]])\n",
            "Tensor2 @ Tensor3: tensor([[ 21,  18,  32],\n",
            "        [ 54,  57,  74],\n",
            "        [ 69,  59, 100]])\n"
          ]
        }
      ]
    },
    {
      "cell_type": "code",
      "source": [
        "t1 = torch.tensor([[14, 42, 93, 1, 56],\n",
        "                  [16, 47, 34, 23, 100,]])\n",
        "print(f\"Max value: {t1.max()}\")\n",
        "print(f\"Min value: {t1.min()}\")\n",
        "print(f\"Mean: {t1.mean(dtype=torch.float32)}\")\n",
        "for i in t1:\n",
        "  for index, j in enumerate(i):  # Use enumerate to get the index\n",
        "    if index < len(i) - 1:  # Check if it's not the last element\n",
        "      print(f\"{j} + \", end=\"\")\n",
        "    else:\n",
        "      print(f\"{j} = \", end=\"\")  # Print the last element without \"+\"\n",
        "  print(f\"{i.sum()}\")\n",
        "print(f\"Total sum: {t1.sum()}\")"
      ],
      "metadata": {
        "colab": {
          "base_uri": "https://localhost:8080/"
        },
        "id": "_MHbKPIQLMVf",
        "outputId": "baecb818-22e0-4bb8-b599-e41b7468a818"
      },
      "execution_count": null,
      "outputs": [
        {
          "output_type": "stream",
          "name": "stdout",
          "text": [
            "Max value: 100\n",
            "Min value: 1\n",
            "Mean: 42.599998474121094\n",
            "14 + 42 + 93 + 1 + 56 = 206\n",
            "16 + 47 + 34 + 23 + 100 = 220\n",
            "Total sum: 426\n"
          ]
        }
      ]
    },
    {
      "cell_type": "code",
      "source": [
        "print(f\"The lowest value is {t1.min()} and it is located at position {t1.argmin() + 1}\")\n",
        "print(f\"The highest value is {t1.max()} and it is located at position {t1.argmax() + 1}\")\n"
      ],
      "metadata": {
        "colab": {
          "base_uri": "https://localhost:8080/"
        },
        "id": "ur_LMarWTTtf",
        "outputId": "d04888f6-3966-4742-c23e-4e21fd5579c3"
      },
      "execution_count": null,
      "outputs": [
        {
          "output_type": "stream",
          "name": "stdout",
          "text": [
            "The lowest value is 1 and it is located at position 4\n",
            "The highest value is 100 and it is located at position 10\n"
          ]
        }
      ]
    },
    {
      "cell_type": "code",
      "source": [
        "x = torch.arange(1., 21.)\n",
        "x, x.shape"
      ],
      "metadata": {
        "id": "eivAItznUGji",
        "colab": {
          "base_uri": "https://localhost:8080/"
        },
        "outputId": "75c10115-7cc3-4950-db26-c8d9fc8b6913"
      },
      "execution_count": 9,
      "outputs": [
        {
          "output_type": "execute_result",
          "data": {
            "text/plain": [
              "(tensor([ 1.,  2.,  3.,  4.,  5.,  6.,  7.,  8.,  9., 10., 11., 12., 13., 14.,\n",
              "         15., 16., 17., 18., 19., 20.]),\n",
              " torch.Size([20]))"
            ]
          },
          "metadata": {},
          "execution_count": 9
        }
      ]
    },
    {
      "cell_type": "code",
      "source": [
        "Xreshaped = x.reshape(5, 4)\n",
        "Xreshaped, Xreshaped.shape"
      ],
      "metadata": {
        "colab": {
          "base_uri": "https://localhost:8080/"
        },
        "id": "s0-y2WFZeLfh",
        "outputId": "b6483a2e-f74d-4d90-8ab1-3af249498048"
      },
      "execution_count": 19,
      "outputs": [
        {
          "output_type": "execute_result",
          "data": {
            "text/plain": [
              "(tensor([[ 1.,  2.,  3.,  4.],\n",
              "         [ 5.,  6.,  7.,  8.],\n",
              "         [ 9., 10., 11., 12.],\n",
              "         [13., 14., 15., 16.],\n",
              "         [17., 18., 19., 20.]]),\n",
              " torch.Size([5, 4]))"
            ]
          },
          "metadata": {},
          "execution_count": 19
        }
      ]
    },
    {
      "cell_type": "code",
      "source": [
        "z = x.view(1, 20)\n",
        "z, z.shape"
      ],
      "metadata": {
        "colab": {
          "base_uri": "https://localhost:8080/"
        },
        "id": "7_YEQh0MfQWM",
        "outputId": "92280724-efe9-4f9b-876d-c17e35aafd72"
      },
      "execution_count": 28,
      "outputs": [
        {
          "output_type": "execute_result",
          "data": {
            "text/plain": [
              "(tensor([[ 1.,  2.,  3.,  4.,  5.,  6.,  7.,  8.,  9., 10., 11., 12., 13., 14.,\n",
              "          15., 16., 17., 18., 19., 20.]]),\n",
              " torch.Size([1, 20]))"
            ]
          },
          "metadata": {},
          "execution_count": 28
        }
      ]
    },
    {
      "cell_type": "code",
      "source": [
        "RANDOM_SEED = 42\n",
        "\n",
        "\n",
        "torch.manual_seed(RANDOM_SEED)\n",
        "ten1 = torch.rand(3, 4)\n",
        "\n",
        "torch.manual_seed(RANDOM_SEED)\n",
        "ten2 = torch.rand(3, 4)\n",
        "print(ten1)\n",
        "print(ten2)\n",
        "print(ten1 == ten2)"
      ],
      "metadata": {
        "colab": {
          "base_uri": "https://localhost:8080/"
        },
        "id": "2yiAf4xRljjt",
        "outputId": "5912e2c0-5c37-467e-fb4b-abe90a972b15"
      },
      "execution_count": 32,
      "outputs": [
        {
          "output_type": "stream",
          "name": "stdout",
          "text": [
            "tensor([[0.8823, 0.9150, 0.3829, 0.9593],\n",
            "        [0.3904, 0.6009, 0.2566, 0.7936],\n",
            "        [0.9408, 0.1332, 0.9346, 0.5936]])\n",
            "tensor([[0.8823, 0.9150, 0.3829, 0.9593],\n",
            "        [0.3904, 0.6009, 0.2566, 0.7936],\n",
            "        [0.9408, 0.1332, 0.9346, 0.5936]])\n",
            "tensor([[True, True, True, True],\n",
            "        [True, True, True, True],\n",
            "        [True, True, True, True]])\n"
          ]
        }
      ]
    },
    {
      "cell_type": "code",
      "source": [
        "tensor = torch.tensor([1, 2, 3])\n",
        "tensor.device"
      ],
      "metadata": {
        "colab": {
          "base_uri": "https://localhost:8080/"
        },
        "id": "PN5XgqystmKS",
        "outputId": "2033c21c-dad6-4cb7-ec40-598da7c8cfae"
      },
      "execution_count": 37,
      "outputs": [
        {
          "output_type": "execute_result",
          "data": {
            "text/plain": [
              "device(type='cpu')"
            ]
          },
          "metadata": {},
          "execution_count": 37
        }
      ]
    },
    {
      "cell_type": "code",
      "source": [
        "device = \"cuda\" if torch.cuda.is_available() else \"cpu\"\n",
        "device"
      ],
      "metadata": {
        "colab": {
          "base_uri": "https://localhost:8080/",
          "height": 36
        },
        "id": "LmSj77liuMg9",
        "outputId": "3f721357-4d57-43ce-8153-12e250d8fa8d"
      },
      "execution_count": 38,
      "outputs": [
        {
          "output_type": "execute_result",
          "data": {
            "text/plain": [
              "'cuda'"
            ],
            "application/vnd.google.colaboratory.intrinsic+json": {
              "type": "string"
            }
          },
          "metadata": {},
          "execution_count": 38
        }
      ]
    },
    {
      "cell_type": "code",
      "source": [
        "Ntensor = tensor.to(device)"
      ],
      "metadata": {
        "id": "toRfrhcwtx2Z"
      },
      "execution_count": 43,
      "outputs": []
    },
    {
      "cell_type": "code",
      "source": [
        "Ntensor.cpu().numpy()"
      ],
      "metadata": {
        "colab": {
          "base_uri": "https://localhost:8080/"
        },
        "id": "CzWMk6iGuCa5",
        "outputId": "c12fba0d-3e34-4dfc-b5a3-99a3a9536ffd"
      },
      "execution_count": 51,
      "outputs": [
        {
          "output_type": "execute_result",
          "data": {
            "text/plain": [
              "array([1, 2, 3])"
            ]
          },
          "metadata": {},
          "execution_count": 51
        }
      ]
    },
    {
      "cell_type": "code",
      "source": [],
      "metadata": {
        "id": "mc8Omt4yukWP"
      },
      "execution_count": 50,
      "outputs": []
    }
  ]
}